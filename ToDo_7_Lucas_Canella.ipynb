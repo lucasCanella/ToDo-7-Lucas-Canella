{
  "nbformat": 4,
  "nbformat_minor": 0,
  "metadata": {
    "colab": {
      "provenance": [],
      "collapsed_sections": []
    },
    "kernelspec": {
      "name": "python3",
      "display_name": "Python 3"
    },
    "language_info": {
      "name": "python"
    }
  },
  "cells": [
    {
      "cell_type": "markdown",
      "source": [
        "#Relatório semanal"
      ],
      "metadata": {
        "id": "8_eWMykHlFL9"
      }
    },
    {
      "cell_type": "markdown",
      "source": [
        "Esse relatório foi feito em Python com a utilização da biblioteca Pandas:\n",
        "\n",
        "Primeiro, foi feito a importação da biblioteca necessária:"
      ],
      "metadata": {
        "id": "cNto-fh5lP-P"
      }
    },
    {
      "cell_type": "code",
      "execution_count": null,
      "metadata": {
        "id": "yIlR9d61bKy5"
      },
      "outputs": [],
      "source": [
        "import pandas as pd"
      ]
    },
    {
      "cell_type": "markdown",
      "source": [
        "- Com os dados oferecidos, foi criada a tabela de despesas semanal"
      ],
      "metadata": {
        "id": "ARyew618l03P"
      }
    },
    {
      "cell_type": "code",
      "source": [
        "dados = {\n",
        "        'Limpeza':[100, 0, 100, 0, 100, 100, 0],\n",
        "        'Comida':[221.60, 375.31, 412.00, 495.20, 411.53, 245.00, 164.00],\n",
        "        'Transporte' : [150, 100, 125, 300, 275, 525, 75],\n",
        "        'Outros' : [0, 0, 2310, 500, 0, 0, 820]\n",
        "}\n",
        "\n",
        "relatorio = pd.DataFrame(dados, index = ['segunda', 'terca', 'quarta', 'quinta', 'sexta', 'sabado','domingo'])\n",
        "relatorio"
      ],
      "metadata": {
        "colab": {
          "base_uri": "https://localhost:8080/",
          "height": 269
        },
        "id": "pPcgWjNKbYP4",
        "outputId": "a4e5de5a-3369-4b5f-f422-61d449604a16"
      },
      "execution_count": null,
      "outputs": [
        {
          "output_type": "execute_result",
          "data": {
            "text/plain": [
              "         Limpeza  Comida  Transporte  Outros\n",
              "Segunda      100  221.60         150       0\n",
              "Terça          0  375.31         100       0\n",
              "Quarta       100  412.00         125    2310\n",
              "Quinta         0  495.20         300     500\n",
              "Sexta        100  411.53         275       0\n",
              "Sábado       100  245.00         525       0\n",
              "Domingo        0  164.00          75     820"
            ],
            "text/html": [
              "\n",
              "  <div id=\"df-6b8dec52-d367-40a6-a075-cab82eb540dc\">\n",
              "    <div class=\"colab-df-container\">\n",
              "      <div>\n",
              "<style scoped>\n",
              "    .dataframe tbody tr th:only-of-type {\n",
              "        vertical-align: middle;\n",
              "    }\n",
              "\n",
              "    .dataframe tbody tr th {\n",
              "        vertical-align: top;\n",
              "    }\n",
              "\n",
              "    .dataframe thead th {\n",
              "        text-align: right;\n",
              "    }\n",
              "</style>\n",
              "<table border=\"1\" class=\"dataframe\">\n",
              "  <thead>\n",
              "    <tr style=\"text-align: right;\">\n",
              "      <th></th>\n",
              "      <th>Limpeza</th>\n",
              "      <th>Comida</th>\n",
              "      <th>Transporte</th>\n",
              "      <th>Outros</th>\n",
              "    </tr>\n",
              "  </thead>\n",
              "  <tbody>\n",
              "    <tr>\n",
              "      <th>Segunda</th>\n",
              "      <td>100</td>\n",
              "      <td>221.60</td>\n",
              "      <td>150</td>\n",
              "      <td>0</td>\n",
              "    </tr>\n",
              "    <tr>\n",
              "      <th>Terça</th>\n",
              "      <td>0</td>\n",
              "      <td>375.31</td>\n",
              "      <td>100</td>\n",
              "      <td>0</td>\n",
              "    </tr>\n",
              "    <tr>\n",
              "      <th>Quarta</th>\n",
              "      <td>100</td>\n",
              "      <td>412.00</td>\n",
              "      <td>125</td>\n",
              "      <td>2310</td>\n",
              "    </tr>\n",
              "    <tr>\n",
              "      <th>Quinta</th>\n",
              "      <td>0</td>\n",
              "      <td>495.20</td>\n",
              "      <td>300</td>\n",
              "      <td>500</td>\n",
              "    </tr>\n",
              "    <tr>\n",
              "      <th>Sexta</th>\n",
              "      <td>100</td>\n",
              "      <td>411.53</td>\n",
              "      <td>275</td>\n",
              "      <td>0</td>\n",
              "    </tr>\n",
              "    <tr>\n",
              "      <th>Sábado</th>\n",
              "      <td>100</td>\n",
              "      <td>245.00</td>\n",
              "      <td>525</td>\n",
              "      <td>0</td>\n",
              "    </tr>\n",
              "    <tr>\n",
              "      <th>Domingo</th>\n",
              "      <td>0</td>\n",
              "      <td>164.00</td>\n",
              "      <td>75</td>\n",
              "      <td>820</td>\n",
              "    </tr>\n",
              "  </tbody>\n",
              "</table>\n",
              "</div>\n",
              "      <button class=\"colab-df-convert\" onclick=\"convertToInteractive('df-6b8dec52-d367-40a6-a075-cab82eb540dc')\"\n",
              "              title=\"Convert this dataframe to an interactive table.\"\n",
              "              style=\"display:none;\">\n",
              "        \n",
              "  <svg xmlns=\"http://www.w3.org/2000/svg\" height=\"24px\"viewBox=\"0 0 24 24\"\n",
              "       width=\"24px\">\n",
              "    <path d=\"M0 0h24v24H0V0z\" fill=\"none\"/>\n",
              "    <path d=\"M18.56 5.44l.94 2.06.94-2.06 2.06-.94-2.06-.94-.94-2.06-.94 2.06-2.06.94zm-11 1L8.5 8.5l.94-2.06 2.06-.94-2.06-.94L8.5 2.5l-.94 2.06-2.06.94zm10 10l.94 2.06.94-2.06 2.06-.94-2.06-.94-.94-2.06-.94 2.06-2.06.94z\"/><path d=\"M17.41 7.96l-1.37-1.37c-.4-.4-.92-.59-1.43-.59-.52 0-1.04.2-1.43.59L10.3 9.45l-7.72 7.72c-.78.78-.78 2.05 0 2.83L4 21.41c.39.39.9.59 1.41.59.51 0 1.02-.2 1.41-.59l7.78-7.78 2.81-2.81c.8-.78.8-2.07 0-2.86zM5.41 20L4 18.59l7.72-7.72 1.47 1.35L5.41 20z\"/>\n",
              "  </svg>\n",
              "      </button>\n",
              "      \n",
              "  <style>\n",
              "    .colab-df-container {\n",
              "      display:flex;\n",
              "      flex-wrap:wrap;\n",
              "      gap: 12px;\n",
              "    }\n",
              "\n",
              "    .colab-df-convert {\n",
              "      background-color: #E8F0FE;\n",
              "      border: none;\n",
              "      border-radius: 50%;\n",
              "      cursor: pointer;\n",
              "      display: none;\n",
              "      fill: #1967D2;\n",
              "      height: 32px;\n",
              "      padding: 0 0 0 0;\n",
              "      width: 32px;\n",
              "    }\n",
              "\n",
              "    .colab-df-convert:hover {\n",
              "      background-color: #E2EBFA;\n",
              "      box-shadow: 0px 1px 2px rgba(60, 64, 67, 0.3), 0px 1px 3px 1px rgba(60, 64, 67, 0.15);\n",
              "      fill: #174EA6;\n",
              "    }\n",
              "\n",
              "    [theme=dark] .colab-df-convert {\n",
              "      background-color: #3B4455;\n",
              "      fill: #D2E3FC;\n",
              "    }\n",
              "\n",
              "    [theme=dark] .colab-df-convert:hover {\n",
              "      background-color: #434B5C;\n",
              "      box-shadow: 0px 1px 3px 1px rgba(0, 0, 0, 0.15);\n",
              "      filter: drop-shadow(0px 1px 2px rgba(0, 0, 0, 0.3));\n",
              "      fill: #FFFFFF;\n",
              "    }\n",
              "  </style>\n",
              "\n",
              "      <script>\n",
              "        const buttonEl =\n",
              "          document.querySelector('#df-6b8dec52-d367-40a6-a075-cab82eb540dc button.colab-df-convert');\n",
              "        buttonEl.style.display =\n",
              "          google.colab.kernel.accessAllowed ? 'block' : 'none';\n",
              "\n",
              "        async function convertToInteractive(key) {\n",
              "          const element = document.querySelector('#df-6b8dec52-d367-40a6-a075-cab82eb540dc');\n",
              "          const dataTable =\n",
              "            await google.colab.kernel.invokeFunction('convertToInteractive',\n",
              "                                                     [key], {});\n",
              "          if (!dataTable) return;\n",
              "\n",
              "          const docLinkHtml = 'Like what you see? Visit the ' +\n",
              "            '<a target=\"_blank\" href=https://colab.research.google.com/notebooks/data_table.ipynb>data table notebook</a>'\n",
              "            + ' to learn more about interactive tables.';\n",
              "          element.innerHTML = '';\n",
              "          dataTable['output_type'] = 'display_data';\n",
              "          await google.colab.output.renderOutput(dataTable, element);\n",
              "          const docLink = document.createElement('div');\n",
              "          docLink.innerHTML = docLinkHtml;\n",
              "          element.appendChild(docLink);\n",
              "        }\n",
              "      </script>\n",
              "    </div>\n",
              "  </div>\n",
              "  "
            ]
          },
          "metadata": {},
          "execution_count": 5
        }
      ]
    },
    {
      "cell_type": "markdown",
      "source": [
        "- Foi adicionado na tabela posteriormente a coluna \"Ganhos\""
      ],
      "metadata": {
        "id": "Ue2awQULmJrS"
      }
    },
    {
      "cell_type": "code",
      "source": [
        "relatorio['Ganhos'] = [2200, 2420.50, 3391, 5322, 4898.50, 4200, 3893]\n",
        "relatorio"
      ],
      "metadata": {
        "colab": {
          "base_uri": "https://localhost:8080/",
          "height": 269
        },
        "id": "2eyBXVwpdvwA",
        "outputId": "9869375e-8366-42c5-9f18-b716124a6217"
      },
      "execution_count": null,
      "outputs": [
        {
          "output_type": "execute_result",
          "data": {
            "text/plain": [
              "         Limpeza  Comida  Transporte  Outros  Ganhos\n",
              "Segunda      100  221.60         150       0  2200.0\n",
              "Terça          0  375.31         100       0  2420.5\n",
              "Quarta       100  412.00         125    2310  3391.0\n",
              "Quinta         0  495.20         300     500  5322.0\n",
              "Sexta        100  411.53         275       0  4898.5\n",
              "Sábado       100  245.00         525       0  4200.0\n",
              "Domingo        0  164.00          75     820  3893.0"
            ],
            "text/html": [
              "\n",
              "  <div id=\"df-a601e6fd-50ab-4739-8cc6-1462937b1c53\">\n",
              "    <div class=\"colab-df-container\">\n",
              "      <div>\n",
              "<style scoped>\n",
              "    .dataframe tbody tr th:only-of-type {\n",
              "        vertical-align: middle;\n",
              "    }\n",
              "\n",
              "    .dataframe tbody tr th {\n",
              "        vertical-align: top;\n",
              "    }\n",
              "\n",
              "    .dataframe thead th {\n",
              "        text-align: right;\n",
              "    }\n",
              "</style>\n",
              "<table border=\"1\" class=\"dataframe\">\n",
              "  <thead>\n",
              "    <tr style=\"text-align: right;\">\n",
              "      <th></th>\n",
              "      <th>Limpeza</th>\n",
              "      <th>Comida</th>\n",
              "      <th>Transporte</th>\n",
              "      <th>Outros</th>\n",
              "      <th>Ganhos</th>\n",
              "    </tr>\n",
              "  </thead>\n",
              "  <tbody>\n",
              "    <tr>\n",
              "      <th>Segunda</th>\n",
              "      <td>100</td>\n",
              "      <td>221.60</td>\n",
              "      <td>150</td>\n",
              "      <td>0</td>\n",
              "      <td>2200.0</td>\n",
              "    </tr>\n",
              "    <tr>\n",
              "      <th>Terça</th>\n",
              "      <td>0</td>\n",
              "      <td>375.31</td>\n",
              "      <td>100</td>\n",
              "      <td>0</td>\n",
              "      <td>2420.5</td>\n",
              "    </tr>\n",
              "    <tr>\n",
              "      <th>Quarta</th>\n",
              "      <td>100</td>\n",
              "      <td>412.00</td>\n",
              "      <td>125</td>\n",
              "      <td>2310</td>\n",
              "      <td>3391.0</td>\n",
              "    </tr>\n",
              "    <tr>\n",
              "      <th>Quinta</th>\n",
              "      <td>0</td>\n",
              "      <td>495.20</td>\n",
              "      <td>300</td>\n",
              "      <td>500</td>\n",
              "      <td>5322.0</td>\n",
              "    </tr>\n",
              "    <tr>\n",
              "      <th>Sexta</th>\n",
              "      <td>100</td>\n",
              "      <td>411.53</td>\n",
              "      <td>275</td>\n",
              "      <td>0</td>\n",
              "      <td>4898.5</td>\n",
              "    </tr>\n",
              "    <tr>\n",
              "      <th>Sábado</th>\n",
              "      <td>100</td>\n",
              "      <td>245.00</td>\n",
              "      <td>525</td>\n",
              "      <td>0</td>\n",
              "      <td>4200.0</td>\n",
              "    </tr>\n",
              "    <tr>\n",
              "      <th>Domingo</th>\n",
              "      <td>0</td>\n",
              "      <td>164.00</td>\n",
              "      <td>75</td>\n",
              "      <td>820</td>\n",
              "      <td>3893.0</td>\n",
              "    </tr>\n",
              "  </tbody>\n",
              "</table>\n",
              "</div>\n",
              "      <button class=\"colab-df-convert\" onclick=\"convertToInteractive('df-a601e6fd-50ab-4739-8cc6-1462937b1c53')\"\n",
              "              title=\"Convert this dataframe to an interactive table.\"\n",
              "              style=\"display:none;\">\n",
              "        \n",
              "  <svg xmlns=\"http://www.w3.org/2000/svg\" height=\"24px\"viewBox=\"0 0 24 24\"\n",
              "       width=\"24px\">\n",
              "    <path d=\"M0 0h24v24H0V0z\" fill=\"none\"/>\n",
              "    <path d=\"M18.56 5.44l.94 2.06.94-2.06 2.06-.94-2.06-.94-.94-2.06-.94 2.06-2.06.94zm-11 1L8.5 8.5l.94-2.06 2.06-.94-2.06-.94L8.5 2.5l-.94 2.06-2.06.94zm10 10l.94 2.06.94-2.06 2.06-.94-2.06-.94-.94-2.06-.94 2.06-2.06.94z\"/><path d=\"M17.41 7.96l-1.37-1.37c-.4-.4-.92-.59-1.43-.59-.52 0-1.04.2-1.43.59L10.3 9.45l-7.72 7.72c-.78.78-.78 2.05 0 2.83L4 21.41c.39.39.9.59 1.41.59.51 0 1.02-.2 1.41-.59l7.78-7.78 2.81-2.81c.8-.78.8-2.07 0-2.86zM5.41 20L4 18.59l7.72-7.72 1.47 1.35L5.41 20z\"/>\n",
              "  </svg>\n",
              "      </button>\n",
              "      \n",
              "  <style>\n",
              "    .colab-df-container {\n",
              "      display:flex;\n",
              "      flex-wrap:wrap;\n",
              "      gap: 12px;\n",
              "    }\n",
              "\n",
              "    .colab-df-convert {\n",
              "      background-color: #E8F0FE;\n",
              "      border: none;\n",
              "      border-radius: 50%;\n",
              "      cursor: pointer;\n",
              "      display: none;\n",
              "      fill: #1967D2;\n",
              "      height: 32px;\n",
              "      padding: 0 0 0 0;\n",
              "      width: 32px;\n",
              "    }\n",
              "\n",
              "    .colab-df-convert:hover {\n",
              "      background-color: #E2EBFA;\n",
              "      box-shadow: 0px 1px 2px rgba(60, 64, 67, 0.3), 0px 1px 3px 1px rgba(60, 64, 67, 0.15);\n",
              "      fill: #174EA6;\n",
              "    }\n",
              "\n",
              "    [theme=dark] .colab-df-convert {\n",
              "      background-color: #3B4455;\n",
              "      fill: #D2E3FC;\n",
              "    }\n",
              "\n",
              "    [theme=dark] .colab-df-convert:hover {\n",
              "      background-color: #434B5C;\n",
              "      box-shadow: 0px 1px 3px 1px rgba(0, 0, 0, 0.15);\n",
              "      filter: drop-shadow(0px 1px 2px rgba(0, 0, 0, 0.3));\n",
              "      fill: #FFFFFF;\n",
              "    }\n",
              "  </style>\n",
              "\n",
              "      <script>\n",
              "        const buttonEl =\n",
              "          document.querySelector('#df-a601e6fd-50ab-4739-8cc6-1462937b1c53 button.colab-df-convert');\n",
              "        buttonEl.style.display =\n",
              "          google.colab.kernel.accessAllowed ? 'block' : 'none';\n",
              "\n",
              "        async function convertToInteractive(key) {\n",
              "          const element = document.querySelector('#df-a601e6fd-50ab-4739-8cc6-1462937b1c53');\n",
              "          const dataTable =\n",
              "            await google.colab.kernel.invokeFunction('convertToInteractive',\n",
              "                                                     [key], {});\n",
              "          if (!dataTable) return;\n",
              "\n",
              "          const docLinkHtml = 'Like what you see? Visit the ' +\n",
              "            '<a target=\"_blank\" href=https://colab.research.google.com/notebooks/data_table.ipynb>data table notebook</a>'\n",
              "            + ' to learn more about interactive tables.';\n",
              "          element.innerHTML = '';\n",
              "          dataTable['output_type'] = 'display_data';\n",
              "          await google.colab.output.renderOutput(dataTable, element);\n",
              "          const docLink = document.createElement('div');\n",
              "          docLink.innerHTML = docLinkHtml;\n",
              "          element.appendChild(docLink);\n",
              "        }\n",
              "      </script>\n",
              "    </div>\n",
              "  </div>\n",
              "  "
            ]
          },
          "metadata": {},
          "execution_count": 83
        }
      ]
    },
    {
      "cell_type": "markdown",
      "source": [
        "#### Resolução dos cálculos:"
      ],
      "metadata": {
        "id": "9sYDvsiPm0Kj"
      }
    },
    {
      "cell_type": "markdown",
      "source": [
        "######*Subtração dos impostos dos ganhos diários:*"
      ],
      "metadata": {
        "id": "96tXOBhMibKD"
      }
    },
    {
      "cell_type": "markdown",
      "source": [
        "Foi solicitado a subtração dos impostos dos ganhos diários, para realizar esse cálculo, temos que o valor do imposto é de 7%.\n",
        "\n",
        "Considerando o valor de ganho diário como 100%, para obter o valor do imposto a ser pago diariamente, basta multiplicar o ganho diário por 0.07:"
      ],
      "metadata": {
        "id": "Sc_KoujxnQE9"
      }
    },
    {
      "cell_type": "code",
      "source": [
        "imposto = relatorio['Ganhos'] * 0.07\n",
        "imposto\n"
      ],
      "metadata": {
        "colab": {
          "base_uri": "https://localhost:8080/"
        },
        "id": "yBIvnraweMo2",
        "outputId": "f960d3d4-a38f-4314-edea-18402e234c05"
      },
      "execution_count": null,
      "outputs": [
        {
          "output_type": "execute_result",
          "data": {
            "text/plain": [
              "Segunda    154.000\n",
              "Terça      169.435\n",
              "Quarta     237.370\n",
              "Quinta     372.540\n",
              "Sexta      342.895\n",
              "Sábado     294.000\n",
              "Domingo    272.510\n",
              "Name: Ganhos, dtype: float64"
            ]
          },
          "metadata": {},
          "execution_count": 98
        }
      ]
    },
    {
      "cell_type": "markdown",
      "source": [
        "Temos também o valor total de imposto a ser pago nessa semana:"
      ],
      "metadata": {
        "id": "1pz7vWVLyddY"
      }
    },
    {
      "cell_type": "code",
      "source": [
        "imposto.sum()"
      ],
      "metadata": {
        "colab": {
          "base_uri": "https://localhost:8080/"
        },
        "id": "fgg5BXo9ykJm",
        "outputId": "927a7dcd-76cf-42ee-cea8-c8d2939be920"
      },
      "execution_count": null,
      "outputs": [
        {
          "output_type": "execute_result",
          "data": {
            "text/plain": [
              "1842.75"
            ]
          },
          "metadata": {},
          "execution_count": 99
        }
      ]
    },
    {
      "cell_type": "markdown",
      "source": [
        "Será pago um total de 1.842,75R$ em impostos."
      ],
      "metadata": {
        "id": "ZuteJ7ZWfQkO"
      }
    },
    {
      "cell_type": "markdown",
      "source": [
        "Subtraindo a série \"imposto\" da série \"ganhos\", temos os ganhos diários com imposto descontado:\n",
        "\n"
      ],
      "metadata": {
        "id": "DJT0OrPrqf9u"
      }
    },
    {
      "cell_type": "code",
      "source": [
        "ganho_liquido = relatorio['Ganhos'] - imposto\n",
        "ganho_liquido"
      ],
      "metadata": {
        "colab": {
          "base_uri": "https://localhost:8080/"
        },
        "id": "1tDY5qjpsBuy",
        "outputId": "5ae40a14-1afe-4acf-cf5a-d234d778a81a"
      },
      "execution_count": null,
      "outputs": [
        {
          "output_type": "execute_result",
          "data": {
            "text/plain": [
              "Segunda    2046.000\n",
              "Terça      2251.065\n",
              "Quarta     3153.630\n",
              "Quinta     4949.460\n",
              "Sexta      4555.605\n",
              "Sábado     3906.000\n",
              "Domingo    3620.490\n",
              "Name: Ganhos, dtype: float64"
            ]
          },
          "metadata": {},
          "execution_count": 87
        }
      ]
    },
    {
      "cell_type": "markdown",
      "source": [
        "Para complementar e facilitar a visualização, é possível ver esses resultados em um gráfico de barra horizontal:"
      ],
      "metadata": {
        "id": "Vl6GbNqqV6Mc"
      }
    },
    {
      "cell_type": "code",
      "source": [
        "ganho_liquido.plot(kind = 'barh')"
      ],
      "metadata": {
        "colab": {
          "base_uri": "https://localhost:8080/",
          "height": 282
        },
        "id": "mpItqc7DVpWA",
        "outputId": "3a620b36-8a8e-453f-f780-59666643f89a"
      },
      "execution_count": null,
      "outputs": [
        {
          "output_type": "execute_result",
          "data": {
            "text/plain": [
              "<matplotlib.axes._subplots.AxesSubplot at 0x7fe98b00c490>"
            ]
          },
          "metadata": {},
          "execution_count": 112
        },
        {
          "output_type": "display_data",
          "data": {
            "text/plain": [
              "<Figure size 432x288 with 1 Axes>"
            ],
            "image/png": "[encoded data removed]"
          },
          "metadata": {
            "needs_background": "light"
          }
        }
      ]
    },
    {
      "cell_type": "markdown",
      "source": [
        "É possível concluir que:\n",
        "* Quinta foi o dia em que as vendas foram maiores;\n",
        "* Segunda foi o dia que as vendas foram menores;\n",
        "* Na quarta as vendas começaram a cair;\n",
        "* No domingo as vendas começaram a subir;"
      ],
      "metadata": {
        "id": "tRosN9mLWJGh"
      }
    },
    {
      "cell_type": "markdown",
      "source": [
        "######*A Soma total dos ganhos:*"
      ],
      "metadata": {
        "id": "oaK4V8TIix94"
      }
    },
    {
      "cell_type": "markdown",
      "source": [
        "Para calcular a soma dos ganhos, basta utilizar a função sum() nos ganhos liquidos"
      ],
      "metadata": {
        "id": "M91zmWXWx3u2"
      }
    },
    {
      "cell_type": "code",
      "source": [
        "ganho_liquido.sum()"
      ],
      "metadata": {
        "colab": {
          "base_uri": "https://localhost:8080/"
        },
        "id": "UcerZ9ypjHg5",
        "outputId": "cef7de20-0979-47e6-bea2-31a3754c1841"
      },
      "execution_count": null,
      "outputs": [
        {
          "output_type": "execute_result",
          "data": {
            "text/plain": [
              "24482.25"
            ]
          },
          "metadata": {},
          "execution_count": 115
        }
      ]
    },
    {
      "cell_type": "markdown",
      "source": [
        "Assim, temos como resultado um total de 24.482,25R$ de ganho nessa semana (com impostos já descontados);"
      ],
      "metadata": {
        "id": "NfN60_IXzxC5"
      }
    },
    {
      "cell_type": "markdown",
      "source": [
        "######*A média semanal dos ganhos:*"
      ],
      "metadata": {
        "id": "J21NMRZgjKZm"
      }
    },
    {
      "cell_type": "markdown",
      "source": [
        "Para calcular a média dos ganhos, basta utilizar a função mean() nos ganhos liquidos:"
      ],
      "metadata": {
        "id": "G-Tr0cJZy9RF"
      }
    },
    {
      "cell_type": "code",
      "source": [
        "ganho_liquido.mean()"
      ],
      "metadata": {
        "colab": {
          "base_uri": "https://localhost:8080/"
        },
        "id": "oZmN3zqJj6vw",
        "outputId": "0c8e36b5-820f-4b51-e774-910c258ff16a"
      },
      "execution_count": null,
      "outputs": [
        {
          "output_type": "execute_result",
          "data": {
            "text/plain": [
              "3497.464285714286"
            ]
          },
          "metadata": {},
          "execution_count": 89
        }
      ]
    },
    {
      "cell_type": "markdown",
      "source": [
        "Assim, temos como média semanal um total de 3.497,50R$ por dia;"
      ],
      "metadata": {
        "id": "79p8fz-uzbDx"
      }
    },
    {
      "cell_type": "markdown",
      "source": [
        "######*A soma total das despesas por categoria:*"
      ],
      "metadata": {
        "id": "2HMhb_Pij7EQ"
      }
    },
    {
      "cell_type": "markdown",
      "source": [
        "Para conseguir a soma total das despesas por categoria, primeiro selecionamos apenas as colunas referentes as despezas e depois utilizamos a função sum() para somar. O seguinte resultado foi obtido:"
      ],
      "metadata": {
        "id": "5TiM9z_53XA8"
      }
    },
    {
      "cell_type": "code",
      "source": [
        "despesa_por_categoria = relatorio[['Limpeza', 'Comida', 'Transporte', 'Outros']].sum()\n",
        "despesa_por_categoria"
      ],
      "metadata": {
        "colab": {
          "base_uri": "https://localhost:8080/"
        },
        "id": "IxgWkeeIkCUG",
        "outputId": "a3c1d94d-cb1b-4802-874e-1e9165bb5295"
      },
      "execution_count": null,
      "outputs": [
        {
          "output_type": "execute_result",
          "data": {
            "text/plain": [
              "Limpeza        400.00\n",
              "Comida        2324.64\n",
              "Transporte    1550.00\n",
              "Outros        3630.00\n",
              "dtype: float64"
            ]
          },
          "metadata": {},
          "execution_count": 126
        }
      ]
    },
    {
      "cell_type": "markdown",
      "source": [
        "É possível ver esses resultados em um gráfico:"
      ],
      "metadata": {
        "id": "8OQhqgFUX5rD"
      }
    },
    {
      "cell_type": "code",
      "source": [
        "despesa_por_categoria.plot(kind = 'barh')"
      ],
      "metadata": {
        "colab": {
          "base_uri": "https://localhost:8080/",
          "height": 282
        },
        "id": "gITBg89uTRmw",
        "outputId": "044579cb-d851-4dfc-c59b-39848bae769c"
      },
      "execution_count": null,
      "outputs": [
        {
          "output_type": "execute_result",
          "data": {
            "text/plain": [
              "<matplotlib.axes._subplots.AxesSubplot at 0x7fe98b5b1750>"
            ]
          },
          "metadata": {},
          "execution_count": 97
        },
        {
          "output_type": "display_data",
          "data": {
            "text/plain": [
              "<Figure size 432x288 with 1 Axes>"
            ],
            "image/png": "[encoded data removed]"
          },
          "metadata": {
            "needs_background": "light"
          }
        }
      ]
    },
    {
      "cell_type": "markdown",
      "source": [
        "É possível concluir que:\n",
        "* As despesas com limpeza foram as mais baixas;\n",
        "* As despezas com \"Outros\" são muito altas (45% do valor das despezas);"
      ],
      "metadata": {
        "id": "fYyxzyQjX_NG"
      }
    },
    {
      "cell_type": "markdown",
      "source": [
        "######*A média semanal de todas as despesas:*"
      ],
      "metadata": {
        "id": "SrqvYPixkC1O"
      }
    },
    {
      "cell_type": "markdown",
      "source": [
        "Primeiro, selecionamos apenas as colunas referentes as despezas e utilizamos a função sum com o parâmetro axis = 'columns' para visualizar quanto foi gasto a cada dia da semana.\n"
      ],
      "metadata": {
        "id": "UpyZhVl34-jr"
      }
    },
    {
      "cell_type": "code",
      "source": [
        "despesas_diarias = relatorio[['Limpeza', 'Comida', 'Transporte', 'Outros']].sum(axis = 'columns')\n",
        "despesas_diarias"
      ],
      "metadata": {
        "colab": {
          "base_uri": "https://localhost:8080/"
        },
        "id": "JYugKei2kSa_",
        "outputId": "6b486ac4-ec20-44f2-fb07-da81a9750f46"
      },
      "execution_count": null,
      "outputs": [
        {
          "output_type": "execute_result",
          "data": {
            "text/plain": [
              "Segunda     471.60\n",
              "Terça       475.31\n",
              "Quarta     2947.00\n",
              "Quinta     1295.20\n",
              "Sexta       786.53\n",
              "Sábado      870.00\n",
              "Domingo    1059.00\n",
              "dtype: float64"
            ]
          },
          "metadata": {},
          "execution_count": 134
        }
      ]
    },
    {
      "cell_type": "code",
      "source": [
        "despesas_diarias.plot(kind='barh')"
      ],
      "metadata": {
        "colab": {
          "base_uri": "https://localhost:8080/",
          "height": 282
        },
        "id": "Zh8RgMPqZI3L",
        "outputId": "b40edd92-7d50-4b08-b5d7-aba482ae8377"
      },
      "execution_count": null,
      "outputs": [
        {
          "output_type": "execute_result",
          "data": {
            "text/plain": [
              "<matplotlib.axes._subplots.AxesSubplot at 0x7fe98ae95d10>"
            ]
          },
          "metadata": {},
          "execution_count": 132
        },
        {
          "output_type": "display_data",
          "data": {
            "text/plain": [
              "<Figure size 432x288 with 1 Axes>"
            ],
            "image/png": "[encoded data removed]"
          },
          "metadata": {
            "needs_background": "light"
          }
        }
      ]
    },
    {
      "cell_type": "markdown",
      "source": [
        "É possível concluir que:\n",
        "* Segunda e Terça foram os dias com menores gastos com despezas;\n",
        "* Na quarta foi o dia em que os gastos foram maiores (37% dos gastos);"
      ],
      "metadata": {
        "id": "K_QcMAhoaACw"
      }
    },
    {
      "cell_type": "markdown",
      "source": [
        "Por fim, para calcular a média semanal, basta utilizar a função mean()"
      ],
      "metadata": {
        "id": "en9EDe2p9JHb"
      }
    },
    {
      "cell_type": "code",
      "source": [
        "despesas_diarias.mean()"
      ],
      "metadata": {
        "colab": {
          "base_uri": "https://localhost:8080/"
        },
        "id": "R-Gw1dPS9edH",
        "outputId": "db79cb2a-da80-4b43-ca66-e91b1bed7c78"
      },
      "execution_count": null,
      "outputs": [
        {
          "output_type": "execute_result",
          "data": {
            "text/plain": [
              "1129.2342857142855"
            ]
          },
          "metadata": {},
          "execution_count": 41
        }
      ]
    },
    {
      "cell_type": "markdown",
      "source": [
        "Temos como média semanal de todas as despesas um valor de 1.129R$ por dia."
      ],
      "metadata": {
        "id": "VdGpfi5J9rA9"
      }
    },
    {
      "cell_type": "markdown",
      "source": [
        "######*O lucro diario para informar qual dia foi mais lucrativo e o lucro total da semana:*"
      ],
      "metadata": {
        "id": "jDCYDK3ukqNu"
      }
    },
    {
      "cell_type": "markdown",
      "source": [
        "Subtraindo a série \"despesas_diarias\" da série \"ganho_liquido\" temos o lucro diário de cada dia da semana:"
      ],
      "metadata": {
        "id": "gN6wYNN5cG2a"
      }
    },
    {
      "cell_type": "code",
      "source": [
        "lucro_total = ganho_liquido - despesas_diarias\n",
        "lucro_total"
      ],
      "metadata": {
        "colab": {
          "base_uri": "https://localhost:8080/"
        },
        "id": "pECyNq_DkyGW",
        "outputId": "83c3f61d-f1b3-40fa-a477-d33ffc0f5169"
      },
      "execution_count": null,
      "outputs": [
        {
          "output_type": "execute_result",
          "data": {
            "text/plain": [
              "Segunda    1574.400\n",
              "Terça      1775.755\n",
              "Quarta      206.630\n",
              "Quinta     3654.260\n",
              "Sexta      3769.075\n",
              "Sábado     3036.000\n",
              "Domingo    2561.490\n",
              "dtype: float64"
            ]
          },
          "metadata": {},
          "execution_count": 142
        }
      ]
    },
    {
      "cell_type": "markdown",
      "source": [
        "Podemos visualizar esses dados em um gráfico:"
      ],
      "metadata": {
        "id": "MQ5q-N36c6cW"
      }
    },
    {
      "cell_type": "code",
      "source": [
        "lucro_total.plot(kind = 'barh')"
      ],
      "metadata": {
        "colab": {
          "base_uri": "https://localhost:8080/",
          "height": 282
        },
        "id": "nL_5Yx2fcPRk",
        "outputId": "ddd0ba93-2284-4c43-e5f6-9478653d82dc"
      },
      "execution_count": null,
      "outputs": [
        {
          "output_type": "execute_result",
          "data": {
            "text/plain": [
              "<matplotlib.axes._subplots.AxesSubplot at 0x7fe98ab0fed0>"
            ]
          },
          "metadata": {},
          "execution_count": 151
        },
        {
          "output_type": "display_data",
          "data": {
            "text/plain": [
              "<Figure size 432x288 with 1 Axes>"
            ],
            "image/png": "[encoded data removed]"
          },
          "metadata": {
            "needs_background": "light"
          }
        }
      ]
    },
    {
      "cell_type": "markdown",
      "source": [
        "É possível concluir que:\n",
        "* Sexta foi o dia mais lucrativo\n",
        "* Quarta foi dia menos lucrativo"
      ],
      "metadata": {
        "id": "O7CDuxaNdCXF"
      }
    },
    {
      "cell_type": "markdown",
      "source": [
        "Para finalizar, calculamos o lucro total da semana da seguinte forma:"
      ],
      "metadata": {
        "id": "1KtfL4-mdYIw"
      }
    },
    {
      "cell_type": "code",
      "source": [
        "lucro_total.sum()"
      ],
      "metadata": {
        "colab": {
          "base_uri": "https://localhost:8080/"
        },
        "id": "ssJtw1JsdW9B",
        "outputId": "bcf3fcb6-3e1d-4c6b-deed-dcf44114a305"
      },
      "execution_count": null,
      "outputs": [
        {
          "output_type": "execute_result",
          "data": {
            "text/plain": [
              "16577.61"
            ]
          },
          "metadata": {},
          "execution_count": 152
        }
      ]
    },
    {
      "cell_type": "markdown",
      "source": [
        "Durante a semana analizada, descontando impostos e despesas, a loja teve 16.577R$ de lucro"
      ],
      "metadata": {
        "id": "gZ2Jj7RqdkHX"
      }
    }
  ]
}